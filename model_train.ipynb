{
 "cells": [
  {
   "cell_type": "code",
   "execution_count": 175,
   "id": "3dd55fb4",
   "metadata": {},
   "outputs": [],
   "source": [
    "import pandas as pd\n",
    "import seaborn as sns\n",
    "import matplotlib.pyplot as plt\n",
    "from sklearn.model_selection import train_test_split\n",
    "from sklearn.preprocessing import StandardScaler\n",
    "from sklearn.ensemble import RandomForestClassifier\n",
    "from xgboost import XGBClassifier\n",
    "from sklearn.model_selection import GridSearchCV\n",
    "from sklearn.ensemble import HistGradientBoostingClassifier\n",
    "from sklearn.ensemble import VotingClassifier\n",
    "from sklearn.linear_model import LogisticRegression\n",
    "from sklearn.svm import SVC\n",
    "from sklearn.neighbors import KNeighborsClassifier\n",
    "from sklearn.naive_bayes import GaussianNB\n",
    "from sklearn.metrics import accuracy_score, classification_report, confusion_matrix"
   ]
  },
  {
   "cell_type": "code",
   "execution_count": 158,
   "id": "92a390d1",
   "metadata": {},
   "outputs": [],
   "source": [
    "file=r\"C:\\Users\\Akshaya\\OneDrive\\Desktop\\Internship\\Task3\\heart.csv\"\n",
    "df=pd.read_csv(file)"
   ]
  },
  {
   "cell_type": "code",
   "execution_count": 159,
   "id": "03f73cbc",
   "metadata": {},
   "outputs": [
    {
     "data": {
      "text/plain": [
       "(1025, 14)"
      ]
     },
     "execution_count": 159,
     "metadata": {},
     "output_type": "execute_result"
    }
   ],
   "source": [
    "df.shape"
   ]
  },
  {
   "cell_type": "code",
   "execution_count": 160,
   "id": "9509659c",
   "metadata": {},
   "outputs": [
    {
     "name": "stdout",
     "output_type": "stream",
     "text": [
      "['age', 'sex', 'cp', 'trestbps', 'chol', 'fbs', 'restecg', 'thalach', 'exang', 'oldpeak', 'slope', 'ca', 'thal', 'target']\n"
     ]
    }
   ],
   "source": [
    "print(df.columns.tolist())"
   ]
  },
  {
   "cell_type": "code",
   "execution_count": 161,
   "id": "304bc9ea",
   "metadata": {},
   "outputs": [
    {
     "data": {
      "text/plain": [
       "age         0\n",
       "sex         0\n",
       "cp          0\n",
       "trestbps    0\n",
       "chol        0\n",
       "fbs         0\n",
       "restecg     0\n",
       "thalach     0\n",
       "exang       0\n",
       "oldpeak     0\n",
       "slope       0\n",
       "ca          0\n",
       "thal        0\n",
       "target      0\n",
       "dtype: int64"
      ]
     },
     "execution_count": 161,
     "metadata": {},
     "output_type": "execute_result"
    }
   ],
   "source": [
    "df.isnull().sum()"
   ]
  },
  {
   "cell_type": "code",
   "execution_count": 162,
   "id": "1461d876",
   "metadata": {},
   "outputs": [
    {
     "data": {
      "text/plain": [
       "np.int64(723)"
      ]
     },
     "execution_count": 162,
     "metadata": {},
     "output_type": "execute_result"
    }
   ],
   "source": [
    "df.duplicated().sum()"
   ]
  },
  {
   "cell_type": "code",
   "execution_count": 163,
   "id": "d0049ac3",
   "metadata": {},
   "outputs": [],
   "source": [
    "df=df.drop_duplicates()"
   ]
  },
  {
   "cell_type": "code",
   "execution_count": 164,
   "id": "81ada878",
   "metadata": {},
   "outputs": [
    {
     "data": {
      "text/plain": [
       "(302, 14)"
      ]
     },
     "execution_count": 164,
     "metadata": {},
     "output_type": "execute_result"
    }
   ],
   "source": [
    "df.shape"
   ]
  },
  {
   "cell_type": "code",
   "execution_count": 165,
   "id": "a0221c84",
   "metadata": {},
   "outputs": [],
   "source": [
    "x=df.drop('target', axis=1)\n",
    "y=df['target']"
   ]
  },
  {
   "cell_type": "code",
   "execution_count": 166,
   "id": "868738f7",
   "metadata": {},
   "outputs": [],
   "source": [
    "scal=StandardScaler()\n",
    "x_scal=scal.fit_transform(x)"
   ]
  },
  {
   "cell_type": "code",
   "execution_count": 167,
   "id": "d204fcc6",
   "metadata": {},
   "outputs": [],
   "source": [
    "x_train, x_test, y_train, y_test= train_test_split(x_scal, y, test_size=0.2, random_state=45)"
   ]
  },
  {
   "cell_type": "code",
   "execution_count": 170,
   "id": "f95ba2d8",
   "metadata": {},
   "outputs": [
    {
     "name": "stdout",
     "output_type": "stream",
     "text": [
      "Random Forest\n",
      "Accuracy 0.8032786885245902\n",
      "Confusion Matrix\n",
      " [[23  9]\n",
      " [ 3 26]]\n",
      "Classification Matrix\n",
      "               precision    recall  f1-score   support\n",
      "\n",
      "           0       0.88      0.72      0.79        32\n",
      "           1       0.74      0.90      0.81        29\n",
      "\n",
      "    accuracy                           0.80        61\n",
      "   macro avg       0.81      0.81      0.80        61\n",
      "weighted avg       0.82      0.80      0.80        61\n",
      "\n"
     ]
    }
   ],
   "source": [
    "mod=RandomForestClassifier(random_state=42)\n",
    "mod.fit(x_train, y_train)\n",
    "y_pred=mod.predict(x_test)\n",
    "print(\"Random Forest\")\n",
    "print(\"Accuracy\", accuracy_score(y_test, y_pred))\n",
    "print(\"Confusion Matrix\\n\", confusion_matrix(y_test, y_pred))\n",
    "print(\"Classification Matrix\\n\", classification_report(y_test, y_pred))"
   ]
  },
  {
   "cell_type": "code",
   "execution_count": null,
   "id": "33e80255",
   "metadata": {},
   "outputs": [
    {
     "name": "stdout",
     "output_type": "stream",
     "text": [
      "Hist Gradradient\n",
      "Accuracy: 0.7540983606557377\n",
      "Confusion Matrix\n",
      " [[22 10]\n",
      " [ 5 24]]\n",
      "Classification Matrix\n",
      "               precision    recall  f1-score   support\n",
      "\n",
      "           0       0.81      0.69      0.75        32\n",
      "           1       0.71      0.83      0.76        29\n",
      "\n",
      "    accuracy                           0.75        61\n",
      "   macro avg       0.76      0.76      0.75        61\n",
      "weighted avg       0.76      0.75      0.75        61\n",
      "\n"
     ]
    }
   ],
   "source": [
    "model = HistGradientBoostingClassifier(random_state=42)\n",
    "model.fit(x_train, y_train)\n",
    "y_pred = model.predict(x_test)\n",
    "\n",
    "print(\"Hist Gradradient\")\n",
    "print(\"Accuracy:\", accuracy_score(y_test, y_pred))\n",
    "print(\"Confusion Matrix\\n\", confusion_matrix(y_test, y_pred))\n",
    "print(\"Classification Matrix\\n\", classification_report(y_test, y_pred))"
   ]
  },
  {
   "cell_type": "code",
   "execution_count": null,
   "id": "49000fb5",
   "metadata": {},
   "outputs": [
    {
     "name": "stdout",
     "output_type": "stream",
     "text": [
      "Ensambling\n",
      "Accuracy: 0.819672131147541\n",
      "Confusion Matrix\n",
      " [[21 11]\n",
      " [ 0 29]]\n",
      "Classification Matrix\n",
      "               precision    recall  f1-score   support\n",
      "\n",
      "           0       1.00      0.66      0.79        32\n",
      "           1       0.72      1.00      0.84        29\n",
      "\n",
      "    accuracy                           0.82        61\n",
      "   macro avg       0.86      0.83      0.82        61\n",
      "weighted avg       0.87      0.82      0.82        61\n",
      "\n"
     ]
    }
   ],
   "source": [
    "voting_model = VotingClassifier(estimators=[\n",
    "    ('lr', LogisticRegression(max_iter=1000)),\n",
    "    ('rf', RandomForestClassifier()),\n",
    "    ('svc', SVC(probability=True))\n",
    "], voting='soft')\n",
    "\n",
    "voting_model.fit(x_train, y_train)\n",
    "y_pred = voting_model.predict(x_test)\n",
    "print(\"Ensambling\")\n",
    "print(\"Accuracy:\", accuracy_score(y_test, y_pred))\n",
    "print(\"Confusion Matrix\\n\", confusion_matrix(y_test, y_pred))\n",
    "print(\"Classification Matrix\\n\", classification_report(y_test, y_pred))"
   ]
  },
  {
   "cell_type": "code",
   "execution_count": 172,
   "id": "f65eea24",
   "metadata": {},
   "outputs": [
    {
     "name": "stdout",
     "output_type": "stream",
     "text": [
      "SVC\n",
      "Accuracy: 0.8032786885245902\n",
      "Confusion Matrix\n",
      " [[21 11]\n",
      " [ 0 29]]\n",
      "Classification Matrix\n",
      "               precision    recall  f1-score   support\n",
      "\n",
      "           0       1.00      0.66      0.79        32\n",
      "           1       0.72      1.00      0.84        29\n",
      "\n",
      "    accuracy                           0.82        61\n",
      "   macro avg       0.86      0.83      0.82        61\n",
      "weighted avg       0.87      0.82      0.82        61\n",
      "\n"
     ]
    }
   ],
   "source": [
    "svc_model = SVC(kernel='rbf', probability=True)\n",
    "svc_model.fit(x_train, y_train)\n",
    "svc_pred = svc_model.predict(x_test)\n",
    "print(\"SVC\\nAccuracy:\", accuracy_score(y_test, svc_pred))\n",
    "print(\"Confusion Matrix\\n\", confusion_matrix(y_test, y_pred))\n",
    "print(\"Classification Matrix\\n\", classification_report(y_test, y_pred))"
   ]
  },
  {
   "cell_type": "code",
   "execution_count": 173,
   "id": "2cd95c25",
   "metadata": {},
   "outputs": [
    {
     "name": "stdout",
     "output_type": "stream",
     "text": [
      "KNN\n",
      "Accuracy: 0.8524590163934426\n",
      "Confusion Matrix\n",
      " [[21 11]\n",
      " [ 0 29]]\n",
      "Classification Matrix\n",
      "               precision    recall  f1-score   support\n",
      "\n",
      "           0       1.00      0.66      0.79        32\n",
      "           1       0.72      1.00      0.84        29\n",
      "\n",
      "    accuracy                           0.82        61\n",
      "   macro avg       0.86      0.83      0.82        61\n",
      "weighted avg       0.87      0.82      0.82        61\n",
      "\n"
     ]
    }
   ],
   "source": [
    "knn_model = KNeighborsClassifier(n_neighbors=5)\n",
    "knn_model.fit(x_train, y_train)\n",
    "knn_pred = knn_model.predict(x_test)\n",
    "print(\"KNN\\nAccuracy:\", accuracy_score(y_test, knn_pred))\n",
    "print(\"Confusion Matrix\\n\", confusion_matrix(y_test, y_pred))\n",
    "print(\"Classification Matrix\\n\", classification_report(y_test, y_pred))"
   ]
  },
  {
   "cell_type": "code",
   "execution_count": 174,
   "id": "c03a07db",
   "metadata": {},
   "outputs": [
    {
     "name": "stdout",
     "output_type": "stream",
     "text": [
      "Naive Bayes\n",
      "Accuracy: 0.8360655737704918\n",
      "Confusion Matrix\n",
      " [[21 11]\n",
      " [ 0 29]]\n",
      "Classification Matrix\n",
      "               precision    recall  f1-score   support\n",
      "\n",
      "           0       1.00      0.66      0.79        32\n",
      "           1       0.72      1.00      0.84        29\n",
      "\n",
      "    accuracy                           0.82        61\n",
      "   macro avg       0.86      0.83      0.82        61\n",
      "weighted avg       0.87      0.82      0.82        61\n",
      "\n"
     ]
    }
   ],
   "source": [
    "nb_model = GaussianNB()\n",
    "nb_model.fit(x_train, y_train)\n",
    "nb_pred = nb_model.predict(x_test)\n",
    "print(\"Naive Bayes\\nAccuracy:\", accuracy_score(y_test, nb_pred))\n",
    "print(\"Confusion Matrix\\n\", confusion_matrix(y_test, y_pred))\n",
    "print(\"Classification Matrix\\n\", classification_report(y_test, y_pred))"
   ]
  },
  {
   "cell_type": "code",
   "execution_count": 177,
   "id": "6bbcea20",
   "metadata": {},
   "outputs": [
    {
     "name": "stdout",
     "output_type": "stream",
     "text": [
      "✅ Model and scaler saved successfully.\n"
     ]
    }
   ],
   "source": [
    "import joblib\n",
    "joblib.dump(knn_model, \"knn_model.pkl\")\n",
    "joblib.dump(scal, \"scaler.pkl\")\n",
    "print(\"✅ Model and scaler saved successfully.\")"
   ]
  }
 ],
 "metadata": {
  "kernelspec": {
   "display_name": "Python 3",
   "language": "python",
   "name": "python3"
  },
  "language_info": {
   "codemirror_mode": {
    "name": "ipython",
    "version": 3
   },
   "file_extension": ".py",
   "mimetype": "text/x-python",
   "name": "python",
   "nbconvert_exporter": "python",
   "pygments_lexer": "ipython3",
   "version": "3.11.9"
  }
 },
 "nbformat": 4,
 "nbformat_minor": 5
}
